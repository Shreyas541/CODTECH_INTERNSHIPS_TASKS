{
 "cells": [
  {
   "cell_type": "markdown",
   "metadata": {},
   "source": [
    "# Task 1 - Big Data Analysis using PySpark \n",
    "\n",
    "This notebook demonstrates big data analysis using **PySpark** on the **2013 NYC Yellow Taxi Trip Dataset**, a real-world large dataset.\n"
   ]
  },
  {
   "cell_type": "code",
   "execution_count": null,
   "metadata": {},
   "outputs": [],
   "source": [
    "#Spark session\n",
    "from pyspark.sql import SparkSession\n",
    "spark = SparkSession.builder.appName(\"NYC Taxi Data Analysis\").getOrCreate()"
   ]
  },
  {
   "cell_type": "code",
   "execution_count": null,
   "metadata": {},
   "outputs": [
    {
     "name": "stdout",
     "output_type": "stream",
     "text": [
      "root\n",
      " |-- VendorID: integer (nullable = true)\n",
      " |-- tpep_pickup_datetime: timestamp (nullable = true)\n",
      " |-- tpep_dropoff_datetime: timestamp (nullable = true)\n",
      " |-- passenger_count: integer (nullable = true)\n",
      " |-- trip_distance: double (nullable = true)\n",
      " |-- pickup_longitude: double (nullable = true)\n",
      " |-- pickup_latitude: double (nullable = true)\n",
      " |-- RatecodeID: integer (nullable = true)\n",
      " |-- store_and_fwd_flag: string (nullable = true)\n",
      " |-- dropoff_longitude: double (nullable = true)\n",
      " |-- dropoff_latitude: double (nullable = true)\n",
      " |-- payment_type: integer (nullable = true)\n",
      " |-- fare_amount: double (nullable = true)\n",
      " |-- extra: double (nullable = true)\n",
      " |-- mta_tax: double (nullable = true)\n",
      " |-- tip_amount: double (nullable = true)\n",
      " |-- tolls_amount: integer (nullable = true)\n",
      " |-- improvement_surcharge: double (nullable = true)\n",
      " |-- total_amount: double (nullable = true)\n",
      "\n",
      "+--------+--------------------+---------------------+---------------+-------------+------------------+------------------+----------+------------------+------------------+------------------+------------+-----------+-----+-------+----------+------------+---------------------+------------+\n",
      "|VendorID|tpep_pickup_datetime|tpep_dropoff_datetime|passenger_count|trip_distance|  pickup_longitude|   pickup_latitude|RatecodeID|store_and_fwd_flag| dropoff_longitude|  dropoff_latitude|payment_type|fare_amount|extra|mta_tax|tip_amount|tolls_amount|improvement_surcharge|total_amount|\n",
      "+--------+--------------------+---------------------+---------------+-------------+------------------+------------------+----------+------------------+------------------+------------------+------------+-----------+-----+-------+----------+------------+---------------------+------------+\n",
      "|       2| 2016-01-01 00:00:00|  2016-01-01 00:00:00|              2|          1.1|-73.99037170410156| 40.73469543457031|         1|                 N|-73.98184204101562| 40.73240661621094|           2|        7.5|  0.5|    0.5|       0.0|           0|                  0.3|         8.8|\n",
      "|       2| 2016-01-01 00:00:00|  2016-01-01 00:00:00|              5|          4.9|-73.98078155517578| 40.72991180419922|         1|                 N|-73.94447326660156|40.716678619384766|           1|       18.0|  0.5|    0.5|       0.0|           0|                  0.3|        19.3|\n",
      "|       2| 2016-01-01 00:00:00|  2016-01-01 00:00:00|              1|        10.54|-73.98455047607422|  40.6795654296875|         1|                 N|-73.95027160644531| 40.78892517089844|           1|       33.0|  0.5|    0.5|       0.0|           0|                  0.3|        34.3|\n",
      "|       2| 2016-01-01 00:00:00|  2016-01-01 00:00:00|              1|         4.75|-73.99346923828125|40.718990325927734|         1|                 N|-73.96224212646484| 40.65733337402344|           2|       16.5|  0.0|    0.5|       0.0|           0|                  0.3|        17.3|\n",
      "|       2| 2016-01-01 00:00:00|  2016-01-01 00:00:00|              3|         1.76|-73.96062469482422| 40.78133010864258|         1|                 N|-73.97726440429688|40.758514404296875|           2|        8.0|  0.0|    0.5|       0.0|           0|                  0.3|         8.8|\n",
      "+--------+--------------------+---------------------+---------------+-------------+------------------+------------------+----------+------------------+------------------+------------------+------------+-----------+-----+-------+----------+------------+---------------------+------------+\n",
      "only showing top 5 rows\n"
     ]
    }
   ],
   "source": [
    "#Reading the CSV file\n",
    "df = spark.read.csv(\"yellow_tripdata_example.csv\", header=True, inferSchema=True)\n",
    "df.printSchema()\n",
    "df.show(5)"
   ]
  },
  {
   "cell_type": "code",
   "execution_count": 9,
   "metadata": {},
   "outputs": [
    {
     "name": "stdout",
     "output_type": "stream",
     "text": [
      "Total records: 22\n",
      "+-------+-----------------+------------------+------------------+\n",
      "|summary|    trip_distance|       fare_amount|      total_amount|\n",
      "+-------+-----------------+------------------+------------------+\n",
      "|  count|               22|                22|                22|\n",
      "|   mean|3.222272727272728|12.818181818181818|14.795909090909095|\n",
      "| stddev|2.562470779054171| 7.272821969080461|  7.42788802842171|\n",
      "|    min|             0.01|               2.5|               3.8|\n",
      "|    max|            10.54|              33.0|              34.3|\n",
      "+-------+-----------------+------------------+------------------+\n",
      "\n"
     ]
    }
   ],
   "source": [
    "# Basic statistics\n",
    "print(f\"Total records: {df.count()}\")\n",
    "df.describe([\"trip_distance\", \"fare_amount\", \"total_amount\"]).show()"
   ]
  },
  {
   "cell_type": "code",
   "execution_count": 10,
   "metadata": {},
   "outputs": [
    {
     "name": "stdout",
     "output_type": "stream",
     "text": [
      "+------------------+------------------+-----+\n",
      "|  pickup_longitude|   pickup_latitude|count|\n",
      "+------------------+------------------+-----+\n",
      "|-73.96932983398438|  40.7635383605957|    1|\n",
      "|-74.00614929199219| 40.74491882324219|    1|\n",
      "|-73.94715118408203|40.791046142578125|    1|\n",
      "|-73.99037170410156| 40.73469543457031|    1|\n",
      "|-73.99834442138672| 40.72389602661133|    1|\n",
      "+------------------+------------------+-----+\n",
      "only showing top 5 rows\n"
     ]
    }
   ],
   "source": [
    "# Most common pickup locations\n",
    "df.groupBy(\"pickup_longitude\", \"pickup_latitude\") \\\n",
    "  .count().orderBy(\"count\", ascending=False).show(5)"
   ]
  },
  {
   "cell_type": "code",
   "execution_count": 11,
   "metadata": {},
   "outputs": [
    {
     "name": "stdout",
     "output_type": "stream",
     "text": [
      "+---------------+------------------+\n",
      "|passenger_count|avg(trip_distance)|\n",
      "+---------------+------------------+\n",
      "|              1| 3.124615384615385|\n",
      "|              2|             4.234|\n",
      "|              3|              1.76|\n",
      "|              4|              0.01|\n",
      "|              5|               4.9|\n",
      "|              6|              2.43|\n",
      "+---------------+------------------+\n",
      "\n"
     ]
    }
   ],
   "source": [
    "# Average trip distance per passenger count\n",
    "df.groupBy(\"passenger_count\").avg(\"trip_distance\").orderBy(\"passenger_count\").show()"
   ]
  },
  {
   "cell_type": "code",
   "execution_count": 12,
   "metadata": {},
   "outputs": [
    {
     "name": "stdout",
     "output_type": "stream",
     "text": [
      "+-----------+-------------+---------------+\n",
      "|fare_amount|trip_distance|passenger_count|\n",
      "+-----------+-------------+---------------+\n",
      "|        7.5|          1.1|              2|\n",
      "|       18.0|          4.9|              5|\n",
      "|       33.0|        10.54|              1|\n",
      "|       16.5|         4.75|              1|\n",
      "|        8.0|         1.76|              3|\n",
      "+-----------+-------------+---------------+\n",
      "only showing top 5 rows\n"
     ]
    }
   ],
   "source": [
    "# Filter out zero/negative fares\n",
    "filtered_df = df.filter((df.total_amount > 0) & (df.fare_amount > 0))\n",
    "filtered_df.select(\"fare_amount\", \"trip_distance\", \"passenger_count\").show(5)"
   ]
  }
 ],
 "metadata": {
  "colab": {
   "name": "task1_big_data_nyc_taxi.ipynb"
  },
  "kernelspec": {
   "display_name": "Python 3",
   "language": "python",
   "name": "python3"
  },
  "language_info": {
   "codemirror_mode": {
    "name": "ipython",
    "version": 3
   },
   "file_extension": ".py",
   "mimetype": "text/x-python",
   "name": "python",
   "nbconvert_exporter": "python",
   "pygments_lexer": "ipython3",
   "version": "3.11.9"
  }
 },
 "nbformat": 4,
 "nbformat_minor": 2
}
